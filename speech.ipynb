{
  "nbformat": 4,
  "nbformat_minor": 0,
  "metadata": {
    "colab": {
      "name": "speech.ipynb",
      "version": "0.3.2",
      "provenance": [],
      "collapsed_sections": [],
      "include_colab_link": true
    },
    "kernelspec": {
      "name": "python3",
      "display_name": "Python 3"
    },
    "accelerator": "GPU"
  },
  "cells": [
    {
      "cell_type": "markdown",
      "metadata": {
        "id": "view-in-github",
        "colab_type": "text"
      },
      "source": [
        "[View in Colaboratory](https://colab.research.google.com/github/AwalDeep/SpeechRecognition/blob/master/speech.ipynb)"
      ]
    },
    {
      "metadata": {
        "id": "yNY3vNvSKpXz",
        "colab_type": "text"
      },
      "cell_type": "markdown",
      "source": [
        "# Load libraries"
      ]
    },
    {
      "metadata": {
        "id": "0b6Om7FxJfOe",
        "colab_type": "code",
        "colab": {}
      },
      "cell_type": "code",
      "source": [
        "import numpy as np\n",
        "import matplotlib.pyplot as plt\n",
        "import seaborn as sns \n",
        "%matplotlib inline\n",
        "import tensorflow  as tf\n",
        "from tensorflow import keras\n",
        "#import cupy as cp\n",
        "\n",
        "from sklearn.preprocessing import normalize\n"
      ],
      "execution_count": 0,
      "outputs": []
    },
    {
      "metadata": {
        "id": "MnQNyvzRqBaR",
        "colab_type": "code",
        "colab": {
          "base_uri": "https://localhost:8080/",
          "height": 34
        },
        "outputId": "b41372e5-ef3c-4de0-c1ce-eddbdae3e6db"
      },
      "cell_type": "code",
      "source": [
        "device_name = tf.test.gpu_device_name()\n",
        "if device_name != '/device:GPU:0':\n",
        "  raise SystemError('GPU device not found')\n",
        "print('Found GPU at: {}'.format(device_name))"
      ],
      "execution_count": 2,
      "outputs": [
        {
          "output_type": "stream",
          "text": [
            "Found GPU at: /device:GPU:0\n"
          ],
          "name": "stdout"
        }
      ]
    },
    {
      "metadata": {
        "id": "CL1Ku7GAK5V1",
        "colab_type": "text"
      },
      "cell_type": "markdown",
      "source": [
        "# Load data"
      ]
    },
    {
      "metadata": {
        "id": "z_giBgkAJ86v",
        "colab_type": "code",
        "colab": {
          "base_uri": "https://localhost:8080/",
          "height": 125
        },
        "outputId": "c5912c14-9f01-45ab-c105-a34b1fba691b"
      },
      "cell_type": "code",
      "source": [
        "from google.colab import drive\n",
        "drive.mount('/content/gdrive')"
      ],
      "execution_count": 3,
      "outputs": [
        {
          "output_type": "stream",
          "text": [
            "Go to this URL in a browser: https://accounts.google.com/o/oauth2/auth?client_id=947318989803-6bn6qk8qdgf4n4g3pfee6491hc0brc4i.apps.googleusercontent.com&redirect_uri=urn%3Aietf%3Awg%3Aoauth%3A2.0%3Aoob&scope=email%20https%3A%2F%2Fwww.googleapis.com%2Fauth%2Fdocs.test%20https%3A%2F%2Fwww.googleapis.com%2Fauth%2Fdrive%20https%3A%2F%2Fwww.googleapis.com%2Fauth%2Fdrive.photos.readonly%20https%3A%2F%2Fwww.googleapis.com%2Fauth%2Fpeopleapi.readonly&response_type=code\n",
            "\n",
            "Enter your authorization code:\n",
            "··········\n",
            "Mounted at /content/gdrive\n"
          ],
          "name": "stdout"
        }
      ]
    },
    {
      "metadata": {
        "id": "ECd-hCxYNf2U",
        "colab_type": "code",
        "colab": {
          "base_uri": "https://localhost:8080/",
          "height": 34
        },
        "outputId": "f247177a-cb34-4899-b0a0-0f70e780afa2"
      },
      "cell_type": "code",
      "source": [
        "cd gdrive/My\\ Drive/"
      ],
      "execution_count": 4,
      "outputs": [
        {
          "output_type": "stream",
          "text": [
            "/content/gdrive/My Drive\n"
          ],
          "name": "stdout"
        }
      ]
    },
    {
      "metadata": {
        "id": "stPCcwyEltWx",
        "colab_type": "code",
        "colab": {
          "base_uri": "https://localhost:8080/",
          "height": 34
        },
        "outputId": "e185490d-da93-44c3-e552-9c33b92df5b2"
      },
      "cell_type": "code",
      "source": [
        "cd HW1/"
      ],
      "execution_count": 5,
      "outputs": [
        {
          "output_type": "stream",
          "text": [
            "/content/gdrive/My Drive/HW1\n"
          ],
          "name": "stdout"
        }
      ]
    },
    {
      "metadata": {
        "id": "XzwnJPUiN5PE",
        "colab_type": "code",
        "colab": {}
      },
      "cell_type": "code",
      "source": [
        "#train_data=np.load(\"train.npy\",encoding='bytes')\n",
        "#train_labels=np.load(\"train_labels.npy\",encoding='bytes')"
      ],
      "execution_count": 0,
      "outputs": []
    },
    {
      "metadata": {
        "id": "dYsiawmP8m_G",
        "colab_type": "code",
        "colab": {}
      },
      "cell_type": "code",
      "source": [
        "dev_train=np.load(\"dev.npy\",encoding='bytes')\n",
        "dev_labels=np.load(\"dev_labels.npy\",encoding='bytes')"
      ],
      "execution_count": 0,
      "outputs": []
    },
    {
      "metadata": {
        "colab_type": "text",
        "id": "blwl_UKjoohT"
      },
      "cell_type": "markdown",
      "source": [
        "# Adding context "
      ]
    },
    {
      "metadata": {
        "id": "U2v9wb12oFKv",
        "colab_type": "code",
        "colab": {}
      },
      "cell_type": "code",
      "source": [
        "def context(utter,window):\n",
        "  \"\"\"Inputs : utterance and window size(multiples of 20)\"\"\"\n",
        "  c=int(np.ceil(window/40))\n",
        "  if window%40!=0:\n",
        "    left=np.append(utter[-c:,:int(window%40)].reshape(c,-1),utter[:-c,:int(window%40)],axis=0)\n",
        "    right=np.append(utter[c:,int(window%40):],utter[:c,:int(window%40)].reshape(c,-1),axis=0)\n",
        "  else:\n",
        "    \n",
        "    left=np.append(utter[-c,:window].reshape(c,-1),utter[:-c,:int(window/c)],axis=0)\n",
        "    right=np.append(utter[c:,:],utter[c,:window].reshape(c,-1),axis=0)\n",
        "  #left.shape,right.shape\n",
        "  new=np.hstack((left,utter,right))[c:-c,:]\n",
        "  return new"
      ],
      "execution_count": 0,
      "outputs": []
    },
    {
      "metadata": {
        "id": "I5jF93yLJ1Ob",
        "colab_type": "code",
        "colab": {}
      },
      "cell_type": "code",
      "source": [
        "#context on train data\n",
        "\n",
        "#for i in range(len(train_data)):\n",
        "#  train_data[i]=context(train_data[i],40)\n",
        "#  #removing extra labels\n",
        "#  train_labels[i]=train_labels[i][1:-1]\n"
      ],
      "execution_count": 0,
      "outputs": []
    },
    {
      "metadata": {
        "id": "IjxTpvcmQT69",
        "colab_type": "code",
        "colab": {}
      },
      "cell_type": "code",
      "source": [
        "#context on dev data\n",
        "for i in range(len(dev_train)):\n",
        "  dev_train[i]=context(dev_train[i],40)\n",
        "  #removing extra labels\n",
        "  dev_labels[i]=dev_labels[i][1:-1]"
      ],
      "execution_count": 0,
      "outputs": []
    },
    {
      "metadata": {
        "id": "f3-wY26SZgoF",
        "colab_type": "code",
        "colab": {}
      },
      "cell_type": "code",
      "source": [
        ""
      ],
      "execution_count": 0,
      "outputs": []
    },
    {
      "metadata": {
        "id": "5FCqUng-oWhB",
        "colab_type": "text"
      },
      "cell_type": "markdown",
      "source": [
        "# Concatenate and Normalize data"
      ]
    },
    {
      "metadata": {
        "id": "PSX4pxI3LhI4",
        "colab_type": "code",
        "colab": {}
      },
      "cell_type": "code",
      "source": [
        "#data=np.concatenate(train_data)\n",
        "#labels=np.concatenate(train_labels)\n",
        "dev_data=np.concatenate(dev_train)\n",
        "dev_labels=np.concatenate(dev_labels)\n"
      ],
      "execution_count": 0,
      "outputs": []
    },
    {
      "metadata": {
        "id": "d6YnxTEbHV4O",
        "colab_type": "code",
        "colab": {}
      },
      "cell_type": "code",
      "source": [
        "shuffle_list=np.arange(len(dev_data))\n",
        "np.random.shuffle(shuffle_list)\n",
        "np.random.shuffle(shuffle_list)"
      ],
      "execution_count": 0,
      "outputs": []
    },
    {
      "metadata": {
        "id": "F7uGPQLmBx8X",
        "colab_type": "code",
        "colab": {}
      },
      "cell_type": "code",
      "source": [
        "# randomly shuffle data\n",
        "\n",
        "dev_data=dev_data[shuffle_list,:]\n",
        "dev_labels=dev_labels[shuffle_list]"
      ],
      "execution_count": 0,
      "outputs": []
    },
    {
      "metadata": {
        "id": "ALhxuveXHiPV",
        "colab_type": "code",
        "colab": {}
      },
      "cell_type": "code",
      "source": [
        ""
      ],
      "execution_count": 0,
      "outputs": []
    },
    {
      "metadata": {
        "id": "Lf2dBfN2-v9i",
        "colab_type": "code",
        "colab": {
          "base_uri": "https://localhost:8080/",
          "height": 34
        },
        "outputId": "9c20bfd9-f6f1-44fd-f47f-0b788c6ef56f"
      },
      "cell_type": "code",
      "source": [
        "#dev_data=tf.data.Dataset.shuffle(dev_data,buffer_size=600,seed=100)\n",
        "#dev_labels=tf.data.Dataset.shuffle(dev_labels,buffer_size=600,seed=100)\n"
      ],
      "execution_count": 86,
      "outputs": [
        {
          "output_type": "execute_result",
          "data": {
            "text/plain": [
              "(667088, 80)"
            ]
          },
          "metadata": {
            "tags": []
          },
          "execution_count": 86
        }
      ]
    },
    {
      "metadata": {
        "id": "7NbLet6Z00Mk",
        "colab_type": "code",
        "colab": {}
      },
      "cell_type": "code",
      "source": [
        "from sklearn.model_selection import train_test_split\n",
        "x_train,x_test,y_train,y_test=train_test_split(dev_data,dev_labels,test_size=0.15)"
      ],
      "execution_count": 0,
      "outputs": []
    },
    {
      "metadata": {
        "id": "sp0CuhfeQRIg",
        "colab_type": "code",
        "colab": {}
      },
      "cell_type": "code",
      "source": [
        "#normalize train data\n",
        "#data=normalize(data)\n",
        "#normalise dev data\n",
        "dev_data=normalize(x_train)\n",
        "test_data=normalize(x_test)"
      ],
      "execution_count": 0,
      "outputs": []
    },
    {
      "metadata": {
        "id": "3XeDgruBoKo5",
        "colab_type": "text"
      },
      "cell_type": "markdown",
      "source": [
        "# Model\n"
      ]
    },
    {
      "metadata": {
        "id": "R6IzBm-Cu3Og",
        "colab_type": "code",
        "colab": {}
      },
      "cell_type": "code",
      "source": [
        "#data=cp.array(data)\n",
        "#labels=cp.array(labels)"
      ],
      "execution_count": 0,
      "outputs": []
    },
    {
      "metadata": {
        "id": "kZDyr7GcOQ-r",
        "colab_type": "code",
        "colab": {}
      },
      "cell_type": "code",
      "source": [
        "model = keras.Sequential([\n",
        "    keras.layers.InputLayer(input_shape=(120,)),\n",
        "    keras.layers.Dense(700, activation=tf.nn.leaky_relu),\n",
        "    #keras.layers.Dropout(0.01),\n",
        "    keras.layers.Dense(450, activation=tf.nn.leaky_relu),\n",
        "    #keras.layers.Dropout(0.1),\n",
        "    keras.layers.Dense(280, activation=tf.nn.leaky_relu),\n",
        "    keras.layers.Dropout(0.1),\n",
        "    keras.layers.Dense(220),\n",
        "    #, activation=tf.nn.leaky_relu),\n",
        "    #keras.layers.Dropout(0.1),\n",
        "    keras.layers.Dense(138, activation=tf.nn.softmax)\n",
        "    \n",
        "])"
      ],
      "execution_count": 0,
      "outputs": []
    },
    {
      "metadata": {
        "id": "BgYVymrkl03R",
        "colab_type": "code",
        "colab": {}
      },
      "cell_type": "code",
      "source": [
        "model.compile(optimizer=tf.train.AdamOptimizer(), \n",
        "            loss='sparse_categorical_crossentropy',\n",
        "              metrics=['accuracy'])"
      ],
      "execution_count": 0,
      "outputs": []
    },
    {
      "metadata": {
        "id": "A37x4iWXUY6c",
        "colab_type": "code",
        "colab": {
          "base_uri": "https://localhost:8080/",
          "height": 390
        },
        "outputId": "f92d065d-4166-4f28-a8fd-087ec84013a6"
      },
      "cell_type": "code",
      "source": [
        "#batch_list=[510]\n",
        "#for i in batch_list:\n",
        "\n",
        "model.fit(dev_data,y_train,batch_size=500,epochs=10)\n",
        " "
      ],
      "execution_count": 67,
      "outputs": [
        {
          "output_type": "stream",
          "text": [
            "Epoch 1/10\n",
            "567024/567024 [==============================] - 11s 20us/step - loss: 2.7722 - acc: 0.2994\n",
            "Epoch 2/10\n",
            "567024/567024 [==============================] - 10s 18us/step - loss: 2.4449 - acc: 0.3676\n",
            "Epoch 3/10\n",
            "567024/567024 [==============================] - 10s 18us/step - loss: 2.3368 - acc: 0.3905\n",
            "Epoch 4/10\n",
            "567024/567024 [==============================] - 10s 18us/step - loss: 2.2693 - acc: 0.4065\n",
            "Epoch 5/10\n",
            "567024/567024 [==============================] - 10s 18us/step - loss: 2.2195 - acc: 0.4174\n",
            "Epoch 6/10\n",
            "567024/567024 [==============================] - 10s 18us/step - loss: 2.1787 - acc: 0.4259\n",
            "Epoch 7/10\n",
            "567024/567024 [==============================] - 10s 17us/step - loss: 2.1435 - acc: 0.4338\n",
            "Epoch 8/10\n",
            "567024/567024 [==============================] - 10s 17us/step - loss: 2.1127 - acc: 0.4409\n",
            "Epoch 9/10\n",
            "567024/567024 [==============================] - 10s 17us/step - loss: 2.0875 - acc: 0.4461\n",
            "Epoch 10/10\n",
            "567024/567024 [==============================] - 10s 17us/step - loss: 2.0635 - acc: 0.4504\n"
          ],
          "name": "stdout"
        },
        {
          "output_type": "execute_result",
          "data": {
            "text/plain": [
              "<tensorflow.python.keras.callbacks.History at 0x7f7f65f4acf8>"
            ]
          },
          "metadata": {
            "tags": []
          },
          "execution_count": 67
        }
      ]
    },
    {
      "metadata": {
        "id": "hphvm0UFY1YA",
        "colab_type": "code",
        "colab": {
          "base_uri": "https://localhost:8080/",
          "height": 52
        },
        "outputId": "6648b1a2-d77a-4709-c1fb-7fffe8fee2a9"
      },
      "cell_type": "code",
      "source": [
        "model.evaluate(test_data,y_test)"
      ],
      "execution_count": 68,
      "outputs": [
        {
          "output_type": "stream",
          "text": [
            "100064/100064 [==============================] - 11s 107us/step\n"
          ],
          "name": "stdout"
        },
        {
          "output_type": "execute_result",
          "data": {
            "text/plain": [
              "[2.104687339244729, 0.44654421170450914]"
            ]
          },
          "metadata": {
            "tags": []
          },
          "execution_count": 68
        }
      ]
    },
    {
      "metadata": {
        "id": "PLZ9M7YoZ0SY",
        "colab_type": "code",
        "colab": {}
      },
      "cell_type": "code",
      "source": [
        ""
      ],
      "execution_count": 0,
      "outputs": []
    },
    {
      "metadata": {
        "id": "UWpeFqStZ0bn",
        "colab_type": "code",
        "colab": {}
      },
      "cell_type": "code",
      "source": [
        ""
      ],
      "execution_count": 0,
      "outputs": []
    },
    {
      "metadata": {
        "id": "vYbEszXInm_B",
        "colab_type": "code",
        "colab": {}
      },
      "cell_type": "code",
      "source": [
        ""
      ],
      "execution_count": 0,
      "outputs": []
    },
    {
      "metadata": {
        "id": "dmERRlu5rL3q",
        "colab_type": "code",
        "colab": {}
      },
      "cell_type": "code",
      "source": [
        "#!cat /proc/meminfo\n",
        "#!apt -y -q install cuda-libraries-dev-9-2\n",
        "#!pip install -q cupy-cuda92 chainer"
      ],
      "execution_count": 0,
      "outputs": []
    },
    {
      "metadata": {
        "id": "YcbtvP42uEda",
        "colab_type": "code",
        "colab": {}
      },
      "cell_type": "code",
      "source": [
        ""
      ],
      "execution_count": 0,
      "outputs": []
    },
    {
      "metadata": {
        "id": "aJefHA9jal0t",
        "colab_type": "code",
        "colab": {}
      },
      "cell_type": "code",
      "source": [
        ""
      ],
      "execution_count": 0,
      "outputs": []
    },
    {
      "metadata": {
        "id": "tqGZ-f1U5bKP",
        "colab_type": "code",
        "colab": {}
      },
      "cell_type": "code",
      "source": [
        ""
      ],
      "execution_count": 0,
      "outputs": []
    }
  ]
}